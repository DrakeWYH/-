{
 "cells": [
  {
   "cell_type": "markdown",
   "metadata": {},
   "source": [
    "# 目录 <a id='menu'></a>\n",
    "[头文件](#header)\n",
    "\n",
    "[获取Headers](#getHeaders)\n",
    "\n",
    "[获取Cookies](#getCookies)\n",
    "\n",
    "[生成代理ip池](#generateProxyIp)\n",
    "\n",
    "[获取题库页面](#getPages)\n",
    "\n",
    "[获取题目网址](#getQuestionUrls)\n",
    "\n",
    "[下载保存题目](#loadQuestions)\n",
    "\n",
    "[主函数](#main)"
   ]
  },
  {
   "cell_type": "markdown",
   "metadata": {},
   "source": [
    "# 头文件 <a id='header'></a> [返回](#menu)"
   ]
  },
  {
   "cell_type": "code",
   "execution_count": 1,
   "metadata": {
    "collapsed": false
   },
   "outputs": [],
   "source": [
    "# 问他网：http://www.7wenta.com/\n",
    "# 用户：13651544\n",
    "# 密码：a200314\n",
    "import codecs\n",
    "import requests\n",
    "import json\n",
    "from bs4 import BeautifulSoup\n",
    "import re\n",
    "import time\n",
    "import random\n",
    "requests.adapters.DEFAULT_RETRIES = 3"
   ]
  },
  {
   "cell_type": "markdown",
   "metadata": {},
   "source": [
    "# 获取Headers <a id='getHeaders'></a> [返回](#menu)"
   ]
  },
  {
   "cell_type": "code",
   "execution_count": 2,
   "metadata": {
    "collapsed": false
   },
   "outputs": [],
   "source": [
    "def GetUserAgent():\n",
    "    user_agent_list=[\n",
    "        \"Mozilla/5.0 (Windows NT 6.1; WOW64) AppleWebKit/537.1 (KHTML, like Gecko) Chrome/22.0.1207.1 Safari/537.1\",\n",
    "        \"Mozilla/5.0 (X11; CrOS i686 2268.111.0) AppleWebKit/536.11 (KHTML, like Gecko) Chrome/20.0.1132.57 Safari/536.11\",\n",
    "        \"Mozilla/5.0 (Windows NT 6.1; WOW64) AppleWebKit/536.6 (KHTML, like Gecko) Chrome/20.0.1092.0 Safari/536.6\",\n",
    "        \"Mozilla/5.0 (Windows NT 6.2) AppleWebKit/536.6 (KHTML, like Gecko) Chrome/20.0.1090.0 Safari/536.6\",\n",
    "        \"Mozilla/5.0 (Windows NT 6.2; WOW64) AppleWebKit/537.1 (KHTML, like Gecko) Chrome/19.77.34.5 Safari/537.1\",\n",
    "        \"Mozilla/5.0 (X11; Linux x86_64) AppleWebKit/536.5 (KHTML, like Gecko) Chrome/19.0.1084.9 Safari/536.5\",\n",
    "        \"Mozilla/5.0 (Windows NT 6.0) AppleWebKit/536.5 (KHTML, like Gecko) Chrome/19.0.1084.36 Safari/536.5\",\n",
    "        \"Mozilla/5.0 (Windows NT 6.1; WOW64) AppleWebKit/536.3 (KHTML, like Gecko) Chrome/19.0.1063.0 Safari/536.3\",\n",
    "        \"Mozilla/5.0 (Windows NT 5.1) AppleWebKit/536.3 (KHTML, like Gecko) Chrome/19.0.1063.0 Safari/536.3\",\n",
    "        \"Mozilla/5.0 (Macintosh; Intel Mac OS X 10_8_0) AppleWebKit/536.3 (KHTML, like Gecko) Chrome/19.0.1063.0 Safari/536.3\",\n",
    "        \"Mozilla/5.0 (Windows NT 6.2) AppleWebKit/536.3 (KHTML, like Gecko) Chrome/19.0.1062.0 Safari/536.3\",\n",
    "        \"Mozilla/5.0 (Windows NT 6.1; WOW64) AppleWebKit/536.3 (KHTML, like Gecko) Chrome/19.0.1062.0 Safari/536.3\",\n",
    "        \"Mozilla/5.0 (Windows NT 6.2) AppleWebKit/536.3 (KHTML, like Gecko) Chrome/19.0.1061.1 Safari/536.3\",\n",
    "        \"Mozilla/5.0 (Windows NT 6.1; WOW64) AppleWebKit/536.3 (KHTML, like Gecko) Chrome/19.0.1061.1 Safari/536.3\",\n",
    "        \"Mozilla/5.0 (Windows NT 6.1) AppleWebKit/536.3 (KHTML, like Gecko) Chrome/19.0.1061.1 Safari/536.3\",\n",
    "        \"Mozilla/5.0 (Windows NT 6.2) AppleWebKit/536.3 (KHTML, like Gecko) Chrome/19.0.1061.0 Safari/536.3\",\n",
    "        \"Mozilla/5.0 (X11; Linux x86_64) AppleWebKit/535.24 (KHTML, like Gecko) Chrome/19.0.1055.1 Safari/535.24\",\n",
    "        \"Mozilla/5.0 (Windows NT 6.2; WOW64) AppleWebKit/535.24 (KHTML, like Gecko) Chrome/19.0.1055.1 Safari/535.24\"\n",
    "    ]\n",
    "    return random.choice(user_agent_list)\n",
    "\n",
    "def GetHeaders():\n",
    "    headers = {\n",
    "        'User-Agent':GetUserAgent()\n",
    "    }\n",
    "    return headers\n",
    "\n",
    "def GetTimeString():\n",
    "    return str(int(time.time()))+str(random.randint(0,9))+str(random.randint(0,9))+str(random.randint(0,9))"
   ]
  },
  {
   "cell_type": "markdown",
   "metadata": {},
   "source": [
    "# 获取cookies <a id='getCookies'></a> [返回](#menu)"
   ]
  },
  {
   "cell_type": "code",
   "execution_count": 3,
   "metadata": {
    "collapsed": false
   },
   "outputs": [],
   "source": [
    "def GetCookies(proxy):\n",
    "    loginUrl = 'http://www.7wenta.com/login2.json?%s' % GetTimeString()\n",
    "    headers = {\n",
    "        'Accept':'*/*',\n",
    "        'Accept-Encoding':'gzip, deflate',\n",
    "        'Accept-Language':'zh-CN,zh;q=0.8',\n",
    "        'Connection':'keep-alive',\n",
    "        #'Content-Length':64,\n",
    "        'Content-Type':'application/x-www-form-urlencoded; charset=UTF-8',\n",
    "        'Host':'www.7wenta.com',\n",
    "        'Origin':'http://www.7wenta.com',\n",
    "        'Referer':'http://www.7wenta.com/',\n",
    "        'User-Agent':'Mozilla/5.0 (Windows NT 6.1; WOW64) AppleWebKit/537.36 (KHTML, like Gecko) Chrome/58.0.3029.96 Safari/537.36',\n",
    "        'X-Requested-With':'XMLHttpRequest'\n",
    "    }\n",
    "    data = {\n",
    "        'account':'13651544',\n",
    "        'pwd':'678127483bdd304fada4018689663cbe',\n",
    "        'auto':'false'\n",
    "    }\n",
    "    try:\n",
    "        response = requests.post(loginUrl,data=data,headers=headers,proxies=proxy)\n",
    "        if response.cookies == '<RequestsCookieJar[]>':\n",
    "            print('获取cookies为空。。')\n",
    "            return None\n",
    "        print('获取cookies成功！\\n%s'%response.cookies)\n",
    "        return response.cookies\n",
    "    except:\n",
    "        print('获取cookies失败。。')\n",
    "        return None\n",
    "\n",
    "    "
   ]
  },
  {
   "cell_type": "markdown",
   "metadata": {},
   "source": [
    "# 生成代理ip池 <a id='generateProxyIp'></a> [返回](#menu)"
   ]
  },
  {
   "cell_type": "code",
   "execution_count": 4,
   "metadata": {
    "collapsed": true
   },
   "outputs": [],
   "source": [
    "def GenerateProxyList(oldProxyList):\n",
    "    print('正在更新代理ip集。。')\n",
    "    proxyList = []\n",
    "    ipUrl = 'http://www.xicidaili.com/'\n",
    "    session = requests.session()\n",
    "    try:\n",
    "        response = session.get(ipUrl,headers=GetHeaders())\n",
    "        #print(response.content.decode('utf-8'))\n",
    "        soup = BeautifulSoup(response.content.decode('utf-8'),'html.parser')\n",
    "        trs = soup.find_all('tr',attrs={'class':re.compile(r'(odd)|()')})\n",
    "        for tr in trs:\n",
    "            #print(tr)\n",
    "            tds = tr.find_all('td')\n",
    "            if len(tds)>6 and tds[6].text!='1分钟':\n",
    "                #print(tds[6])\n",
    "                proxy = {'http':tds[1].string+':'+tds[2].string,\n",
    "                         'https':tds[1].string+':'+tds[2].string}\n",
    "                if proxy in oldProxyList:\n",
    "                    continue\n",
    "                ipTestUrl = 'http://ip.chinaz.com/getip.aspx'\n",
    "                try:\n",
    "                    response = session.get(ipTestUrl,proxies=proxy,timeout=5)\n",
    "                    proxyList.append(proxy)\n",
    "                    print('获取代理ip%s成功！'%proxy)\n",
    "                except:\n",
    "                    #print('代理ip%s失效。。'%proxy)\n",
    "                    continue\n",
    "            if(len(proxyList)==10):\n",
    "                print('代理ip生成完成！')\n",
    "                break\n",
    "    except:\n",
    "        print('获取代理ip失败。。')\n",
    "    session.close\n",
    "    return proxyList\n",
    "\n",
    "def GetProxy(proxyList):\n",
    "    return random.choice(proxyList)"
   ]
  },
  {
   "cell_type": "markdown",
   "metadata": {},
   "source": [
    "# 获取题库页面 <a id='getPages'></a> [返回](#menu)"
   ]
  },
  {
   "cell_type": "code",
   "execution_count": 5,
   "metadata": {
    "collapsed": false
   },
   "outputs": [],
   "source": [
    "def GetPages(nPage):\n",
    "    beginPage = 'http://www.7wenta.com/tiku/g301.html'\n",
    "    oldPages = set()\n",
    "    newPages = set()\n",
    "    newPages.add(beginPage)\n",
    "    while (len(newPages)!=0) and (len(oldPages) < nPage):\n",
    "        new_url = newPages.pop()\n",
    "        oldPages.add(new_url)\n",
    "        try:\n",
    "            response = requests.get(new_url)\n",
    "            soup = BeautifulSoup(response.content.decode('utf-8'), 'html.parser')\n",
    "            urls = soup.find_all('a',href=re.compile(r'http://www.7wenta.com/tiku/'))\n",
    "            for url in urls:\n",
    "                if url is None:\n",
    "                    continue\n",
    "                if url not in newPages and url not in oldPages:\n",
    "                    newPages.add(url['href'])\n",
    "        except:\n",
    "            print('获取页面%s失败。。'%new_url)\n",
    "    print('共找到%d个页面！'%len(oldPages))\n",
    "    return oldPages"
   ]
  },
  {
   "cell_type": "markdown",
   "metadata": {},
   "source": [
    "# 获取题目网址 <a id='getQuestionUrls'></a> [返回](#menu)"
   ]
  },
  {
   "cell_type": "code",
   "execution_count": 6,
   "metadata": {
    "collapsed": true
   },
   "outputs": [],
   "source": [
    "def GetQuestionUrls(pages):\n",
    "    questionUrls = set()\n",
    "    for page in pages:\n",
    "        try:\n",
    "            response = requests.get(page)\n",
    "            soup = BeautifulSoup(response.content.decode(),'html.parser')\n",
    "            urls = soup.find_all('a',class_='ansBtn r')\n",
    "            for url in urls:\n",
    "                #print(url)\n",
    "                questionUrl = url['href'].replace('html','json?%s&fromSearch=false'%GetTimeString()).replace('topic/','topic/answer/')\n",
    "                questionUrls.add(questionUrl)\n",
    "        except:\n",
    "            print('打开页面%s失败。。'%page)\n",
    "    print('共找到%d条题目！'%len(questionUrls))\n",
    "    return questionUrls\n",
    "\n",
    "def SaveQuestionUrls(questionUrls):\n",
    "    with codecs.open('questionUrls.txt','a','utf-8') as wf:\n",
    "        for item in questionUrls:\n",
    "            wf.write(item + '\\n')"
   ]
  },
  {
   "cell_type": "markdown",
   "metadata": {},
   "source": [
    "# 下载保存题目 <a id='loadQuestions'></a> [返回](#menu)"
   ]
  },
  {
   "cell_type": "code",
   "execution_count": 7,
   "metadata": {
    "collapsed": false
   },
   "outputs": [],
   "source": [
    "def LoadQuestions(questionUrls, saveFile, headers, oldProxyList, savedUrls):\n",
    "    with codecs.open(saveFile,'a','utf-8') as wf:\n",
    "        number = 1\n",
    "        \n",
    "        index = 0\n",
    "        proxyList = GenerateProxyList(oldProxyList)\n",
    "        if len(proxyList) == 0:\n",
    "            print('代理ip列表为空。。结束爬虫。。')\n",
    "            return\n",
    "        cookies = None\n",
    "        while(cookies == None or len(cookies)==0):\n",
    "            cookies = GetCookies(proxyList[index])\n",
    "            oldProxyList.append(proxyList[index])\n",
    "            index += 1\n",
    "            if index >= len(proxyList):\n",
    "                proxyList = GenerateProxyList(oldProxyList)\n",
    "                if len(proxyList) == 0:\n",
    "                    print('代理ip列表为空。。结束爬虫。。')\n",
    "                    return\n",
    "                index = 0\n",
    "            time.sleep(random.uniform(3,6))\n",
    "            \n",
    "        for url in questionUrls:\n",
    "            if url.split('.')[2].split('/')[-1] in savedUrls:\n",
    "                print('该题目已下载！')\n",
    "                continue\n",
    "            while(True):\n",
    "                try:\n",
    "                    response = requests.get(url,headers=headers,proxies=proxyList[index],cookies=cookies,timeout=60)\n",
    "                    js = json.loads(response.content.decode('utf-8'))\n",
    "                    if 'value' in js and js['value'] != None:\n",
    "                        wf.write(response.content.decode('utf-8'))\n",
    "                        wf.write('\\n')\n",
    "                        print('%d、下载题目%s成功！'%(number,url))\n",
    "                        with codecs.open('savedUrls.txt','a','utf-8') as su:\n",
    "                            su.write(url.split('.')[2].split('/')[-1])\n",
    "                            su.write('\\n')\n",
    "                        time.sleep(random.uniform(3,6))\n",
    "                        break\n",
    "                    else:\n",
    "                        if 'resultCode' in js and js['resultCode']['code'] == -11:\n",
    "                            print('需要填验证码。。')\n",
    "                        elif 'resultCode' in js:\n",
    "                            print('ip已失效，正在换新ip。。 %d, %s'%(js['resutlCode']['code'], js['resultCode']['detail']))\n",
    "                        else:\n",
    "                            print('ip已失效，正在换新ip。。')\n",
    "                        cookies = None\n",
    "                        while(cookies == None or len(cookies)==0):\n",
    "                            cookies = GetCookies(proxyList[index])\n",
    "                            oldProxyList.append(proxyList[index])\n",
    "                            index += 1\n",
    "                            if index >= len(proxyList):\n",
    "                                proxyList = GenerateProxyList(oldProxyList)\n",
    "                                if len(proxyList) == 0:\n",
    "                                    print('代理ip列表为空。。结束爬虫。。')\n",
    "                                    return\n",
    "                                index = 0\n",
    "                            time.sleep(random.uniform(5,10))\n",
    "                            \n",
    "                except:\n",
    "                    print('下载题目失败。。')\n",
    "                    cookies = None\n",
    "                    while(cookies == None or len(cookies)==0):\n",
    "                        time.sleep(random.uniform(5,10))\n",
    "                        cookies = GetCookies(proxyList[index])\n",
    "                        oldProxyList.append(proxyList[index])\n",
    "                        index += 1\n",
    "                        if index >= len(proxyList):\n",
    "                            proxyList = GenerateProxyList(oldProxyList)\n",
    "                            if len(proxyList) == 0:\n",
    "                                print('代理ip列表为空。。结束爬虫。。')\n",
    "                                return\n",
    "                            index = 0\n",
    "            if number % 100 == 0:\n",
    "                print('休息一分钟。')\n",
    "                time.sleep(60)\n",
    "            number += 1\n",
    "    print('下载保存完成！')"
   ]
  },
  {
   "cell_type": "markdown",
   "metadata": {},
   "source": [
    "# 主函数 <a id='main'></a> [返回](#menu)"
   ]
  },
  {
   "cell_type": "code",
   "execution_count": 8,
   "metadata": {
    "collapsed": false,
    "scrolled": true
   },
   "outputs": [
    {
     "name": "stdout",
     "output_type": "stream",
     "text": [
      "共找到100个页面！\n",
      "共找到927条题目！\n"
     ]
    }
   ],
   "source": [
    "pages = GetPages(100)\n",
    "#pages = ['http://www.7wenta.com/tiku/g111.html']\n",
    "questionUrls = GetQuestionUrls(pages)\n",
    "#questionUrls = ['http://www.7wenta.com/topic/answer/9814DAEB6422AC27EE5E1B85950694C7.json?1497441966718&fromSearch=false']"
   ]
  },
  {
   "cell_type": "code",
   "execution_count": 9,
   "metadata": {
    "collapsed": true
   },
   "outputs": [],
   "source": [
    "SaveQuestionUrls(questionUrls)"
   ]
  },
  {
   "cell_type": "code",
   "execution_count": 8,
   "metadata": {
    "collapsed": false
   },
   "outputs": [
    {
     "name": "stdout",
     "output_type": "stream",
     "text": [
      "880\n"
     ]
    }
   ],
   "source": [
    "questionUrls = set()\n",
    "with codecs.open('questionUrls.txt','r','utf-8') as lf:\n",
    "    for line in lf:\n",
    "        #print(line.strip())\n",
    "        questionUrls.add(line.strip())\n",
    "print(len(questionUrls))"
   ]
  },
  {
   "cell_type": "code",
   "execution_count": null,
   "metadata": {
    "collapsed": false,
    "scrolled": true
   },
   "outputs": [
    {
     "name": "stdout",
     "output_type": "stream",
     "text": [
      "5047\n",
      "正在更新代理ip集。。\n",
      "获取代理ip{'http': '115.215.209.190:8118', 'https': '115.215.209.190:8118'}成功！\n",
      "获取代理ip{'http': '180.95.132.73:7895', 'https': '180.95.132.73:7895'}成功！\n",
      "获取代理ip{'http': '121.31.101.30:8123', 'https': '121.31.101.30:8123'}成功！\n",
      "获取代理ip{'http': '117.63.63.43:808', 'https': '117.63.63.43:808'}成功！\n",
      "获取代理ip{'http': '122.72.32.88:80', 'https': '122.72.32.88:80'}成功！\n",
      "获取代理ip{'http': '120.76.47.120:3128', 'https': '120.76.47.120:3128'}成功！\n",
      "获取代理ip{'http': '219.141.189.236:3128', 'https': '219.141.189.236:3128'}成功！\n",
      "获取代理ip{'http': '180.168.179.193:8080', 'https': '180.168.179.193:8080'}成功！\n",
      "获取代理ip{'http': '139.196.176.18:9797', 'https': '139.196.176.18:9797'}成功！\n",
      "获取代理ip{'http': '101.37.79.125:3128', 'https': '101.37.79.125:3128'}成功！\n",
      "代理ip生成完成！\n",
      "获取cookies失败。。\n",
      "获取cookies失败。。\n",
      "获取cookies失败。。\n",
      "获取cookies失败。。\n",
      "获取cookies成功！\n",
      "<RequestsCookieJar[]>\n",
      "获取cookies成功！\n",
      "<RequestsCookieJar[<Cookie UUID_TOKEN=0025F3640C0319493F195E774D91A241FF19498E5F1084E35E7531D1F2C5FACB1B170F84B337C9A65A958B1765A400C5CAF6023C961CE83D88EB485853FCB851 for .7wenta.com/>, <Cookie JSESSIONID=C59B4CDDB44C95588A194C6779DA6976-n1 for www.7wenta.com/>]>\n",
      "该题目已下载！\n",
      "该题目已下载！\n",
      "需要填验证码。。\n",
      "获取cookies成功！\n",
      "<RequestsCookieJar[<Cookie UUID_TOKEN=0025F3640C0319493F195E774D91A241FF19498E5F1084E35E7531D1F2C5FACB1B170F84B337C9A65A958B1765A400C5392B4FFA1F46EA75EB7BE94FE4E270E0 for .7wenta.com/>, <Cookie JSESSIONID=6335990954BC1F889F712E5D3223030F-n1 for www.7wenta.com/>]>\n",
      "下载题目失败。。\n",
      "获取cookies成功！\n",
      "<RequestsCookieJar[]>\n",
      "获取cookies成功！\n",
      "<RequestsCookieJar[<Cookie UUID_TOKEN=0025F3640C0319493F195E774D91A241FF19498E5F1084E35E7531D1F2C5FACB1B170F84B337C9A65A958B1765A400C56F10EB6935EF71CD680CA3EB90E1C20C for .7wenta.com/>, <Cookie JSESSIONID=18650026340B549703F953F051BFD0E0-n1 for www.7wenta.com/>]>\n",
      "需要填验证码。。\n",
      "获取cookies成功！\n",
      "<RequestsCookieJar[<Cookie UUID_TOKEN=0025F3640C0319493F195E774D91A241FF19498E5F1084E35E7531D1F2C5FACB1B170F84B337C9A65A958B1765A400C58B5DC44E9E817A44001D2D729F28C19D for .7wenta.com/>, <Cookie JSESSIONID=E6972AE95FB8FEBF3747B2B23083DC49-n1 for www.7wenta.com/>]>\n",
      "正在更新代理ip集。。\n",
      "获取代理ip{'http': '27.184.127.178:8118', 'https': '27.184.127.178:8118'}成功！\n",
      "获取代理ip{'http': '218.11.84.198:8118', 'https': '218.11.84.198:8118'}成功！\n",
      "获取代理ip{'http': '101.206.27.124:8118', 'https': '101.206.27.124:8118'}成功！\n",
      "获取代理ip{'http': '115.226.77.189:8118', 'https': '115.226.77.189:8118'}成功！\n",
      "获取代理ip{'http': '121.232.172.53:8118', 'https': '121.232.172.53:8118'}成功！\n",
      "获取代理ip{'http': '220.174.18.63:8118', 'https': '220.174.18.63:8118'}成功！\n",
      "获取代理ip{'http': '14.153.55.48:3128', 'https': '14.153.55.48:3128'}成功！\n",
      "获取代理ip{'http': '113.200.214.164:9999', 'https': '113.200.214.164:9999'}成功！\n",
      "获取代理ip{'http': '112.115.43.80:9999', 'https': '112.115.43.80:9999'}成功！\n",
      "获取代理ip{'http': '118.178.124.33:3128', 'https': '118.178.124.33:3128'}成功！\n",
      "代理ip生成完成！\n",
      "下载题目失败。。\n",
      "获取cookies失败。。\n",
      "获取cookies成功！\n",
      "<RequestsCookieJar[<Cookie UUID_TOKEN=0025F3640C0319493F195E774D91A241FF19498E5F1084E35E7531D1F2C5FACB1B170F84B337C9A65A958B1765A400C58C87AB8D4C751786AC1349A08CC5D0CA for .7wenta.com/>, <Cookie JSESSIONID=A500FCEC84BA9D8E25987F8657085817-n1 for www.7wenta.com/>]>\n",
      "下载题目失败。。\n",
      "获取cookies失败。。\n",
      "获取cookies成功！\n",
      "<RequestsCookieJar[<Cookie UUID_TOKEN=0025F3640C0319493F195E774D91A241FF19498E5F1084E35E7531D1F2C5FACB1B170F84B337C9A65A958B1765A400C53049728D25B88EA79A45CB1C6B67750D for .7wenta.com/>, <Cookie JSESSIONID=06FFC8BF31EE036485EE770C4A6D7DC3-n1 for www.7wenta.com/>]>\n",
      "1、下载题目http://www.7wenta.com/topic/answer/F40BD89ECF6BCCCC9F4D985345D3032F.json?1502431144609&fromSearch=false成功！\n",
      "下载题目失败。。\n",
      "获取cookies成功！\n",
      "<RequestsCookieJar[<Cookie UUID_TOKEN=0025F3640C0319493F195E774D91A241FF19498E5F1084E35E7531D1F2C5FACB1B170F84B337C9A65A958B1765A400C51F3A89C79074DA88088C01054601E00D for .7wenta.com/>, <Cookie JSESSIONID=A6A920696D6917906C950161F2D7FB84-n1 for www.7wenta.com/>]>\n",
      "下载题目失败。。\n",
      "获取cookies失败。。\n",
      "获取cookies成功！\n",
      "<RequestsCookieJar[<Cookie UUID_TOKEN=0025F3640C0319493F195E774D91A241FF19498E5F1084E35E7531D1F2C5FACB1B170F84B337C9A65A958B1765A400C585C922F950D34D87C42A4D25B047A212 for .7wenta.com/>, <Cookie JSESSIONID=920F19BECB55719A0D9D5FFE986596B6-n1 for www.7wenta.com/>]>\n",
      "需要填验证码。。\n",
      "获取cookies成功！\n",
      "<RequestsCookieJar[<Cookie UUID_TOKEN=0025F3640C0319493F195E774D91A241FF19498E5F1084E35E7531D1F2C5FACB1B170F84B337C9A65A958B1765A400C5BD63E5401C752A7E50931B26ED051F3C for .7wenta.com/>, <Cookie JSESSIONID=45D4BF98C7CDAD28A12646A297311DD5-n1 for www.7wenta.com/>]>\n",
      "需要填验证码。。\n",
      "获取cookies成功！\n",
      "<RequestsCookieJar[<Cookie UUID_TOKEN=0025F3640C0319493F195E774D91A241FF19498E5F1084E35E7531D1F2C5FACB1B170F84B337C9A65A958B1765A400C51CFF49635CAE3ECA3FAEAC39697AE110 for .7wenta.com/>, <Cookie JSESSIONID=93323EA05A29BD59D5628238F45F1722-n1 for www.7wenta.com/>]>\n",
      "需要填验证码。。\n",
      "获取cookies成功！\n",
      "<RequestsCookieJar[<Cookie UUID_TOKEN=0025F3640C0319493F195E774D91A241FF19498E5F1084E35E7531D1F2C5FACB1B170F84B337C9A65A958B1765A400C568BF480DCD17574B5E498150D111ED48 for .7wenta.com/>, <Cookie JSESSIONID=713A95795CB7A1CFE4FF79E72A6104D6-n1 for www.7wenta.com/>]>\n",
      "正在更新代理ip集。。\n",
      "获取代理ip{'http': '122.72.32.73:80', 'https': '122.72.32.73:80'}成功！\n",
      "获取代理ip{'http': '61.160.208.222:8080', 'https': '61.160.208.222:8080'}成功！\n",
      "获取代理ip{'http': '183.56.177.130:808', 'https': '183.56.177.130:808'}成功！\n",
      "获取代理ip{'http': '61.160.208.222:8080', 'https': '61.160.208.222:8080'}成功！\n",
      "获取代理ip{'http': '60.212.78.175:8118', 'https': '60.212.78.175:8118'}成功！\n",
      "获取代理ip{'http': '122.72.32.73:80', 'https': '122.72.32.73:80'}成功！\n",
      "获取代理ip{'http': '125.34.222.101:8118', 'https': '125.34.222.101:8118'}成功！\n",
      "获取代理ip{'http': '116.196.5.150:808', 'https': '116.196.5.150:808'}成功！\n",
      "获取代理ip{'http': '183.56.177.130:808', 'https': '183.56.177.130:808'}成功！\n",
      "下载题目失败。。\n",
      "获取cookies成功！\n",
      "<RequestsCookieJar[]>\n",
      "获取cookies成功！\n",
      "<RequestsCookieJar[<Cookie UUID_TOKEN=0025F3640C0319493F195E774D91A241FF19498E5F1084E35E7531D1F2C5FACB1B170F84B337C9A65A958B1765A400C5E7BA7A0C6BE603DCDACDD5681D3D1ACF for .7wenta.com/>, <Cookie JSESSIONID=3726D4B44FA1ACA15D937A15A8FDC85F-n1 for www.7wenta.com/>]>\n",
      "下载题目失败。。\n",
      "获取cookies失败。。\n"
     ]
    }
   ],
   "source": [
    "oldProxyList = []\n",
    "savedUrls = set()\n",
    "with codecs.open('savedUrls.txt','r','utf-8') as lf:\n",
    "    for line in lf:\n",
    "        savedUrls.add(line.strip())\n",
    "print(len(savedUrls))\n",
    "headers = {\n",
    "    'Accept':'text/html,application/xhtml+xml,application/xml;q=0.9,image/webp,*/*;q=0.8',\n",
    "    'Accept-Encoding':'gzip, deflate, sdch',\n",
    "    'Accept-Language':'zh-CN,zh;q=0.8',\n",
    "    'Cache-Control':'max-age=0',\n",
    "    'Connection':'keep-alive',\n",
    "    'Host':'www.7wenta.com',\n",
    "    'Referer':'http://www.7wenta.com/',\n",
    "    #'Upgrade-Insecure-Requests':1,\n",
    "    'User-Agent':'Mozilla/5.0 (Windows NT 6.1; WOW64) AppleWebKit/537.36 (KHTML, like Gecko) Chrome/45.0.2454.101 Safari/537.36'\n",
    "}\n",
    "LoadQuestions(questionUrls,'answer.txt',headers,oldProxyList,savedUrls)"
   ]
  },
  {
   "cell_type": "code",
   "execution_count": 3,
   "metadata": {
    "collapsed": false
   },
   "outputs": [
    {
     "name": "stdout",
     "output_type": "stream",
     "text": [
      "题目数： 3734\n",
      "行数： 3743\n"
     ]
    }
   ],
   "source": [
    "answer = set()\n",
    "i = 0\n",
    "with codecs.open('answer.txt','r','utf-8') as lf:\n",
    "    for line in lf:\n",
    "        answer.add(line.strip())\n",
    "        i += 1\n",
    "print('题目数：',len(answer))\n",
    "print('行数：',i)"
   ]
  },
  {
   "cell_type": "markdown",
   "metadata": {},
   "source": [
    "# 数据去重"
   ]
  },
  {
   "cell_type": "code",
   "execution_count": 15,
   "metadata": {
    "collapsed": false
   },
   "outputs": [],
   "source": [
    "import json\n",
    "import codecs\n",
    "answerId = set()\n",
    "with codecs.open('answer.txt','r','utf-8') as lf:\n",
    "    for line in lf:\n",
    "        js = json.loads(line)\n",
    "        value = js['value']\n",
    "        if value['id'] in answerId:\n",
    "            print(value['id'])\n",
    "        else:\n",
    "            answerId.add(value['id'])"
   ]
  },
  {
   "cell_type": "markdown",
   "metadata": {},
   "source": [
    "# 保存地址去重"
   ]
  },
  {
   "cell_type": "code",
   "execution_count": 20,
   "metadata": {
    "collapsed": false
   },
   "outputs": [],
   "source": [
    "import codecs\n",
    "answerId = set()\n",
    "with codecs.open('savedUrls.txt','r','utf-8') as lf:\n",
    "    for line in lf:\n",
    "        if line.strip() not in answerId:\n",
    "            answerId.add(line.strip())\n",
    "        else:\n",
    "             print(line.strip())"
   ]
  },
  {
   "cell_type": "code",
   "execution_count": 19,
   "metadata": {
    "collapsed": false
   },
   "outputs": [],
   "source": [
    "import codecs\n",
    "answerId = set()\n",
    "with codecs.open('savedUrls.txt','r','utf-8') as lf:\n",
    "    for line in lf:\n",
    "        answerId.add(line.strip())\n",
    "with codecs.open('savedUrls.txt','w','utf-8') as wf:\n",
    "    for line in answerId:\n",
    "        wf.write(line + '\\n')"
   ]
  },
  {
   "cell_type": "code",
   "execution_count": null,
   "metadata": {
    "collapsed": true
   },
   "outputs": [],
   "source": []
  }
 ],
 "metadata": {
  "kernelspec": {
   "display_name": "Python 3",
   "language": "python",
   "name": "python3"
  },
  "language_info": {
   "codemirror_mode": {
    "name": "ipython",
    "version": 3
   },
   "file_extension": ".py",
   "mimetype": "text/x-python",
   "name": "python",
   "nbconvert_exporter": "python",
   "pygments_lexer": "ipython3",
   "version": "3.6.1"
  }
 },
 "nbformat": 4,
 "nbformat_minor": 2
}
