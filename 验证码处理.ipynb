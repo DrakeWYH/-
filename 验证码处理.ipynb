{
 "cells": [
  {
   "cell_type": "markdown",
   "metadata": {},
   "source": [
    "# 菜单 <a id=\"menu\"></a>\n",
    "[跳转至验证码下载](#main)"
   ]
  },
  {
   "cell_type": "markdown",
   "metadata": {},
   "source": [
    "# 验证码基本操作"
   ]
  },
  {
   "cell_type": "code",
   "execution_count": 1,
   "metadata": {
    "collapsed": false
   },
   "outputs": [],
   "source": [
    "#http://www.7wenta.com/captcha?len=6&1498445214972\n",
    "#获取验证码图片\n",
    "#方式：get\n",
    "\n",
    "#http://www.7wenta.com/captchaCheck.json?1498445767649\n",
    "#检查验证码\n",
    "#方式：post\n",
    "#参数：word、fromSearch：false\n",
    "\n",
    "import requests\n",
    "from PIL import Image\n",
    "import json\n",
    "import os\n",
    "import numpy as np\n",
    "import matplotlib.pyplot as plt\n",
    "import time\n",
    "import random\n",
    "\n",
    "def GetTimeString():\n",
    "    return str(int(time.time()))+str(random.randint(0,9))+str(random.randint(0,9))+str(random.randint(0,9))\n",
    "\n",
    "def LoadPic(address):\n",
    "    img = Image.open(address)\n",
    "    width,height = img.size\n",
    "    img = img.convert('L')\n",
    "    imgData = img.getdata()\n",
    "    imgData = np.matrix(imgData,dtype='float')\n",
    "    imgData = np.reshape(imgData,(height,width))\n",
    "    imgData[imgData>180] = 255\n",
    "    imgData[imgData<=180] = 0\n",
    "    fig,ax = plt.subplots()\n",
    "    plt.imshow(imgData,cmap='gray')\n",
    "    ax.set_xticks([])\n",
    "    ax.set_yticks([])\n",
    "    plt.show()\n",
    "    print(height,width)\n",
    "    return imgData,height,width\n",
    "\n",
    "def ShowImg(img):\n",
    "    fig,ax = plt.subplots()\n",
    "    ax.imshow(img,cmap='gray')\n",
    "    plt.xticks([])\n",
    "    plt.yticks([])\n",
    "    plt.show()"
   ]
  },
  {
   "cell_type": "markdown",
   "metadata": {},
   "source": [
    "# 字符分割"
   ]
  },
  {
   "cell_type": "code",
   "execution_count": 2,
   "metadata": {
    "collapsed": true
   },
   "outputs": [],
   "source": [
    "def SplitImg(img, letter=0, threshold=0):\n",
    "    matrix = (255 - img) / 255.0\n",
    "    sep = []\n",
    "    sepPnt = [0]\n",
    "    sepLen = []\n",
    "    if threshold == 0:\n",
    "        threshold = 0.05\n",
    "        shadow = np.sum(matrix,0) / height\n",
    "        while len(sepPnt)<2 * letter + 1:\n",
    "            sep = []\n",
    "            sepPnt = [0]\n",
    "            sepLen = []\n",
    "            for i in range(len(shadow.T.tolist())):\n",
    "                if shadow[0,i] < threshold:\n",
    "                    sep.append(0)\n",
    "                else:\n",
    "                    sep.append(1)\n",
    "                if len(sep)>1 and sep[-1] != sep[-2]:\n",
    "                    sepPnt.append(i)\n",
    "                    sepLen.append(sepPnt[-1]-sepPnt[-2])\n",
    "            sepLen.append(width - sepPnt[-1] + 1)\n",
    "            threshold += 0.01\n",
    "            \n",
    "    elif letter == 0:\n",
    "        shadow = np.sum(matrix,0) / height\n",
    "        for i in range(len(shadow.T.tolist())):\n",
    "            if shadow[0,i] < threshold:\n",
    "                sep.append(0)\n",
    "            else:\n",
    "                sep.append(1)\n",
    "            if len(sep)>1 and sep[-1] != sep[-2]:\n",
    "                sepPnt.append(i)\n",
    "                sepLen.append(sepPnt[-1]-sepPnt[-2])\n",
    "        sepLen.append(width - sepPnt[-1] + 1)\n",
    "    else:\n",
    "        return\n",
    "    print(len(sep))\n",
    "    print(sepPnt)\n",
    "    print(sepLen)\n",
    "    for i in range(width):\n",
    "        if sep[i] == 0:\n",
    "            for j in range(height):\n",
    "                img[j,i] = 200\n",
    "    return img\n"
   ]
  },
  {
   "cell_type": "markdown",
   "metadata": {},
   "source": [
    "# 删除水平线"
   ]
  },
  {
   "cell_type": "code",
   "execution_count": 3,
   "metadata": {
    "collapsed": true
   },
   "outputs": [],
   "source": [
    "def DeleteLine(img,length,thickness):\n",
    "    matrix = (255 - img)/255.0\n",
    "    for i in range(height):\n",
    "        line = 0\n",
    "        for j in range(width):\n",
    "            if matrix[i,j] == 1:\n",
    "                line += 1\n",
    "            else:\n",
    "                if line >= length:\n",
    "                    for k in range(j-line,j):\n",
    "                        up = 0\n",
    "                        down = 0\n",
    "                        for m in range(10):\n",
    "                            if i-m>=0 and matrix[i-m,k] == 1:\n",
    "                                down += 1\n",
    "                            else:\n",
    "                                break\n",
    "                        for m in range(10):\n",
    "                            if i+m<height and matrix[i+m,k] == 1:\n",
    "                                up += 1\n",
    "                            else:\n",
    "                                break\n",
    "                        if up+down<=thickness-1:\n",
    "                            matrix[i-down:i+up,k] = 0\n",
    "                line = 0\n",
    "        if line>=length:\n",
    "            for k in range(width-line,width):\n",
    "                up = 0\n",
    "                down = 0\n",
    "                for m in range(10):\n",
    "                    if i-m>=0 and matrix[i-m,k] == 1:\n",
    "                        down += 1\n",
    "                    else:\n",
    "                        break\n",
    "                for m in range(10):\n",
    "                    if i+m<height and matrix[i+m,k] == 1:\n",
    "                        up += 1\n",
    "                    else:\n",
    "                        break\n",
    "                if up+down<=thickness-1:\n",
    "                    matrix[i-down:i+up,k] = 0\n",
    "            #matrix[i,width-line:width-1] = 0\n",
    "    img = 255 - matrix * 255.0\n",
    "    return img"
   ]
  },
  {
   "cell_type": "markdown",
   "metadata": {},
   "source": [
    "# 删除孤立点"
   ]
  },
  {
   "cell_type": "code",
   "execution_count": 4,
   "metadata": {
    "collapsed": true
   },
   "outputs": [],
   "source": [
    "def DeletePoint(img):\n",
    "    matrix = (255 - img)/255.0\n",
    "    temp_matrix = matrix\n",
    "    for i in range(height):\n",
    "        for j in range(width):\n",
    "            temp = 0\n",
    "            num = 0\n",
    "            if i>0:\n",
    "                num+=1\n",
    "                if temp_matrix[i-1,j] == 1:\n",
    "                    temp+=1\n",
    "            if i>0 and j>0:\n",
    "                num+=1\n",
    "                if temp_matrix[i-1,j-1] == 1:\n",
    "                    temp+=1\n",
    "            if j>0:\n",
    "                num+=1\n",
    "                if temp_matrix[i,j-1] == 1:\n",
    "                    temp+=1\n",
    "            if j>0 and i<height-1:\n",
    "                num+=1\n",
    "                if temp_matrix[i+1,j-1] == 1:\n",
    "                    temp+=1\n",
    "            if i<height-1:\n",
    "                num+=1\n",
    "                if temp_matrix[i+1,j] == 1:\n",
    "                    temp+=1\n",
    "            if i<height-1 and j<width-1:\n",
    "                num+=1\n",
    "                if temp_matrix[i+1,j+1] == 1:\n",
    "                    temp+=1\n",
    "            if j<width-1:\n",
    "                num+=1\n",
    "                if temp_matrix[i,j+1] == 1:\n",
    "                    temp+=1\n",
    "            if j<width-1 and i>0:\n",
    "                num+=1\n",
    "                if temp_matrix[i-1,j+1] == 1:\n",
    "                    temp+=1\n",
    "            if temp < num/2:\n",
    "                matrix[i,j] = 0\n",
    "            #else:\n",
    "            #    matrix[i,j] = 1\n",
    "    \n",
    "    img = 255 - matrix * 255.0\n",
    "    return img"
   ]
  },
  {
   "cell_type": "markdown",
   "metadata": {},
   "source": [
    "# 删除小块"
   ]
  },
  {
   "cell_type": "code",
   "execution_count": 62,
   "metadata": {
    "collapsed": true
   },
   "outputs": [],
   "source": [
    "def DeleteChunk(img,area):\n",
    "    matrix = (255 - img)/255.0\n",
    "    \n",
    "    newPt = set()\n",
    "    oldPt = set()\n",
    "    savePt = set()\n",
    "    for i in range(height):\n",
    "        for j in range(width):\n",
    "            if matrix[i,j] == 1 and (i,j) not in oldPt:\n",
    "                #print('find point (%d, %d)' % (i,j))\n",
    "                newPt.add((i,j))\n",
    "                savePt.add((i,j))\n",
    "                S = 1\n",
    "                while len(newPt) > 0:\n",
    "                    pt = newPt.pop()\n",
    "                    oldPt.add(pt)\n",
    "                    if pt[0]+1<height and matrix[pt[0]+1,pt[1]] == 1 and (pt[0]+1,pt[1]) not in oldPt and (pt[0]+1,pt[1]) not in savePt:\n",
    "                        newPt.add((pt[0]+1,pt[1]))\n",
    "                        savePt.add((pt[0]+1,pt[1]))\n",
    "                        S += 1\n",
    "                    if pt[0]-1>=0 and matrix[pt[0]-1,pt[1]] == 1 and (pt[0]-1,pt[1]) not in oldPt and (pt[0]-1,pt[1]) not in savePt:\n",
    "                        newPt.add((pt[0]-1,pt[1]))\n",
    "                        savePt.add((pt[0]-1,pt[1]))\n",
    "                        S += 1\n",
    "                    if pt[1]+1<width and matrix[pt[0],pt[1]+1] == 1 and (pt[0],pt[1]+1) not in oldPt and (pt[0],pt[1]+1) not in savePt:\n",
    "                        newPt.add((pt[0],pt[1]+1))\n",
    "                        savePt.add((pt[0],pt[1]+1))\n",
    "                        S += 1\n",
    "                    if pt[1]-1>=0 and matrix[pt[0],pt[1]-1] == 1 and (pt[0],pt[1]-1) not in oldPt and (pt[0],pt[1]-1) not in savePt:\n",
    "                        newPt.add((pt[0],pt[1]-1))\n",
    "                        savePt.add((pt[0],pt[1]-1))\n",
    "                        S += 1\n",
    "                #print(S)\n",
    "                if S <= area:\n",
    "                    #print('Delete chunk!')\n",
    "                    for point in savePt:\n",
    "                        matrix[point[0],point[1]] = 0\n",
    "                savePt.clear()\n",
    "        \n",
    "    img = 255 - matrix * 255.0\n",
    "    return img"
   ]
  },
  {
   "cell_type": "markdown",
   "metadata": {},
   "source": [
    "# 验证码下载 <a id=\"main\"></a> [返回](#menu)"
   ]
  },
  {
   "cell_type": "code",
   "execution_count": 67,
   "metadata": {
    "collapsed": false
   },
   "outputs": [
    {
     "data": {
      "image/png": "[encoded data removed]",
      "text/plain": [
       "<matplotlib.figure.Figure at 0x8b30438>"
      ]
     },
     "metadata": {},
     "output_type": "display_data"
    },
    {
     "name": "stdout",
     "output_type": "stream",
     "text": [
      "60 170\n"
     ]
    }
   ],
   "source": [
    "session = requests.session()\n",
    "response = session.get('http://www.7wenta.com/captcha?len=6&%s'%GetTimeString())\n",
    "with open('验证码图片/test.jpg', 'wb') as wf:\n",
    "    for chunk in response.iter_content(128):\n",
    "        wf.write(chunk)\n",
    "imgData,height,width = LoadPic('验证码图片/test.jpg')"
   ]
  },
  {
   "cell_type": "code",
   "execution_count": 70,
   "metadata": {
    "collapsed": false
   },
   "outputs": [
    {
     "name": "stdout",
     "output_type": "stream",
     "text": [
      "保存成功！\n"
     ]
    }
   ],
   "source": [
    "name = 'ssnwow'\n",
    "data = {\n",
    "    'word':name,\n",
    "    'fromSearch':False\n",
    "}\n",
    "response = session.post('http://www.7wenta.com/captchaCheck.json?%s'%GetTimeString(),data=data)\n",
    "js = json.loads(response.content.decode())\n",
    "if js['resultCode']['code'] == 0:\n",
    "    os.rename('验证码图片/test.jpg', '验证码图片/%s.jpg'%name)\n",
    "    print('保存成功！')\n",
    "    session.close\n",
    "elif js['resultCode']['code'] == -5:\n",
    "    print('验证码错误！')\n",
    "else:\n",
    "    print('异常返回！')"
   ]
  },
  {
   "cell_type": "code",
   "execution_count": 71,
   "metadata": {
    "collapsed": false,
    "scrolled": false
   },
   "outputs": [
    {
     "data": {
      "image/png": "[encoded data removed]",
      "text/plain": [
       "<matplotlib.figure.Figure at 0x8e76f60>"
      ]
     },
     "metadata": {},
     "output_type": "display_data"
    },
    {
     "data": {
      "image/png": "[encoded data removed]",
      "text/plain": [
       "<matplotlib.figure.Figure at 0x8e76d30>"
      ]
     },
     "metadata": {},
     "output_type": "display_data"
    }
   ],
   "source": [
    "ShowImg(imgData)\n",
    "img = imgData\n",
    "img = DeleteLine(img,20,8)\n",
    "#img = DeletePoint(img)\n",
    "#img = DeleteChunk(img, 50)\n",
    "#img = SplitImg(img, threshold=0.15)\n",
    "ShowImg(img)"
   ]
  },
  {
   "cell_type": "code",
   "execution_count": 61,
   "metadata": {
    "collapsed": false
   },
   "outputs": [
    {
     "data": {
      "image/png": "[encoded data removed]",
      "text/plain": [
       "<matplotlib.figure.Figure at 0x7993668>"
      ]
     },
     "metadata": {},
     "output_type": "display_data"
    },
    {
     "name": "stdout",
     "output_type": "stream",
     "text": [
      "5c/F%’r47\n"
     ]
    }
   ],
   "source": [
    "import pytesseract\n",
    "from PIL import Image\n",
    "#print(pytesseract.image_to_string(Image.open('验证码图片/0.jpg')).replace(' ',''))\n",
    "i = Image.fromarray(img.astype(np.uint8))\n",
    "print(pytesseract.image_to_string(i).replace(' ',''))"
   ]
  },
  {
   "cell_type": "code",
   "execution_count": null,
   "metadata": {
    "collapsed": true
   },
   "outputs": [],
   "source": []
  }
 ],
 "metadata": {
  "kernelspec": {
   "display_name": "Python 3",
   "language": "python",
   "name": "python3"
  },
  "language_info": {
   "codemirror_mode": {
    "name": "ipython",
    "version": 3
   },
   "file_extension": ".py",
   "mimetype": "text/x-python",
   "name": "python",
   "nbconvert_exporter": "python",
   "pygments_lexer": "ipython3",
   "version": "3.6.1"
  }
 },
 "nbformat": 4,
 "nbformat_minor": 2
}
