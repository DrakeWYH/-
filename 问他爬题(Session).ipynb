{
 "cells": [
  {
   "cell_type": "markdown",
   "metadata": {},
   "source": [
    "# 目录 <a id='menu'></a>\n",
    "[头文件](#header)\n",
    "\n",
    "[获取Headers](#getHeaders)\n",
    "\n",
    "[获取Cookies](#getCookies)\n",
    "\n",
    "[生成代理ip池](#generateProxyIp)\n",
    "\n",
    "[获取题库页面](#getPages)\n",
    "\n",
    "[获取题目网址](#getQuestionUrls)\n",
    "\n",
    "[下载保存题目](#loadQuestions)\n",
    "\n",
    "[主函数](#main)"
   ]
  },
  {
   "cell_type": "markdown",
   "metadata": {},
   "source": [
    "# 头文件 <a id='header'></a> [返回](#menu)"
   ]
  },
  {
   "cell_type": "code",
   "execution_count": 1,
   "metadata": {
    "collapsed": false
   },
   "outputs": [],
   "source": [
    "# 问他网：http://www.7wenta.com/\n",
    "# 用户：13651544\n",
    "# 密码：a200314\n",
    "import codecs\n",
    "import requests\n",
    "import json\n",
    "from bs4 import BeautifulSoup\n",
    "import re\n",
    "import time\n",
    "import random\n",
    "requests.adapters.DEFAULT_RETRIES = 3"
   ]
  },
  {
   "cell_type": "markdown",
   "metadata": {},
   "source": [
    "# 获取Headers <a id='getHeaders'></a> [返回](#menu)"
   ]
  },
  {
   "cell_type": "code",
   "execution_count": 2,
   "metadata": {
    "collapsed": false
   },
   "outputs": [],
   "source": [
    "def GetUserAgent():\n",
    "    user_agent_list=[\n",
    "        \"Mozilla/5.0 (Windows NT 6.1; WOW64) AppleWebKit/537.1 (KHTML, like Gecko) Chrome/22.0.1207.1 Safari/537.1\",\n",
    "        \"Mozilla/5.0 (X11; CrOS i686 2268.111.0) AppleWebKit/536.11 (KHTML, like Gecko) Chrome/20.0.1132.57 Safari/536.11\",\n",
    "        \"Mozilla/5.0 (Windows NT 6.1; WOW64) AppleWebKit/536.6 (KHTML, like Gecko) Chrome/20.0.1092.0 Safari/536.6\",\n",
    "        \"Mozilla/5.0 (Windows NT 6.2) AppleWebKit/536.6 (KHTML, like Gecko) Chrome/20.0.1090.0 Safari/536.6\",\n",
    "        \"Mozilla/5.0 (Windows NT 6.2; WOW64) AppleWebKit/537.1 (KHTML, like Gecko) Chrome/19.77.34.5 Safari/537.1\",\n",
    "        \"Mozilla/5.0 (X11; Linux x86_64) AppleWebKit/536.5 (KHTML, like Gecko) Chrome/19.0.1084.9 Safari/536.5\",\n",
    "        \"Mozilla/5.0 (Windows NT 6.0) AppleWebKit/536.5 (KHTML, like Gecko) Chrome/19.0.1084.36 Safari/536.5\",\n",
    "        \"Mozilla/5.0 (Windows NT 6.1; WOW64) AppleWebKit/536.3 (KHTML, like Gecko) Chrome/19.0.1063.0 Safari/536.3\",\n",
    "        \"Mozilla/5.0 (Windows NT 5.1) AppleWebKit/536.3 (KHTML, like Gecko) Chrome/19.0.1063.0 Safari/536.3\",\n",
    "        \"Mozilla/5.0 (Macintosh; Intel Mac OS X 10_8_0) AppleWebKit/536.3 (KHTML, like Gecko) Chrome/19.0.1063.0 Safari/536.3\",\n",
    "        \"Mozilla/5.0 (Windows NT 6.2) AppleWebKit/536.3 (KHTML, like Gecko) Chrome/19.0.1062.0 Safari/536.3\",\n",
    "        \"Mozilla/5.0 (Windows NT 6.1; WOW64) AppleWebKit/536.3 (KHTML, like Gecko) Chrome/19.0.1062.0 Safari/536.3\",\n",
    "        \"Mozilla/5.0 (Windows NT 6.2) AppleWebKit/536.3 (KHTML, like Gecko) Chrome/19.0.1061.1 Safari/536.3\",\n",
    "        \"Mozilla/5.0 (Windows NT 6.1; WOW64) AppleWebKit/536.3 (KHTML, like Gecko) Chrome/19.0.1061.1 Safari/536.3\",\n",
    "        \"Mozilla/5.0 (Windows NT 6.1) AppleWebKit/536.3 (KHTML, like Gecko) Chrome/19.0.1061.1 Safari/536.3\",\n",
    "        \"Mozilla/5.0 (Windows NT 6.2) AppleWebKit/536.3 (KHTML, like Gecko) Chrome/19.0.1061.0 Safari/536.3\",\n",
    "        \"Mozilla/5.0 (X11; Linux x86_64) AppleWebKit/535.24 (KHTML, like Gecko) Chrome/19.0.1055.1 Safari/535.24\",\n",
    "        \"Mozilla/5.0 (Windows NT 6.2; WOW64) AppleWebKit/535.24 (KHTML, like Gecko) Chrome/19.0.1055.1 Safari/535.24\"\n",
    "    ]\n",
    "    return random.choice(user_agent_list)\n",
    "\n",
    "def GetHeaders():\n",
    "    headers = {\n",
    "        'User-Agent':GetUserAgent()\n",
    "    }\n",
    "    return headers\n",
    "\n",
    "def GetTimeString():\n",
    "    return str(int(time.time()))+str(random.randint(0,9))+str(random.randint(0,9))+str(random.randint(0,9))"
   ]
  },
  {
   "cell_type": "markdown",
   "metadata": {},
   "source": [
    "# 获取cookies <a id='getCookies'></a> [返回](#menu)"
   ]
  },
  {
   "cell_type": "code",
   "execution_count": 3,
   "metadata": {
    "collapsed": false
   },
   "outputs": [],
   "source": [
    "def GetCookies(proxy):\n",
    "    loginUrl = 'http://www.7wenta.com/login2.json?%s' % GetTimeString()\n",
    "    headers = {\n",
    "        'Accept':'*/*',\n",
    "        'Accept-Encoding':'gzip, deflate',\n",
    "        'Accept-Language':'zh-CN,zh;q=0.8',\n",
    "        'Connection':'keep-alive',\n",
    "        #'Content-Length':64,\n",
    "        'Content-Type':'application/x-www-form-urlencoded; charset=UTF-8',\n",
    "        'Host':'www.7wenta.com',\n",
    "        'Origin':'http://www.7wenta.com',\n",
    "        'Referer':'http://www.7wenta.com/',\n",
    "        'User-Agent':'Mozilla/5.0 (Windows NT 6.1; WOW64) AppleWebKit/537.36 (KHTML, like Gecko) Chrome/58.0.3029.96 Safari/537.36',\n",
    "        'X-Requested-With':'XMLHttpRequest'\n",
    "    }\n",
    "    data = {\n",
    "        'account':'13651544',\n",
    "        'pwd':'678127483bdd304fada4018689663cbe',\n",
    "        'auto':'false'\n",
    "    }\n",
    "    try:\n",
    "        response = requests.post(loginUrl,data=data,headers=headers,proxies=proxy)\n",
    "        if response.cookies == '<RequestsCookieJar[]>':\n",
    "            print('获取cookies为空。。')\n",
    "            return None\n",
    "        print('获取cookies成功！\\n%s'%response.cookies)\n",
    "        return response.cookies\n",
    "    except:\n",
    "        print('获取cookies失败。。')\n",
    "        return None\n",
    "\n",
    "    "
   ]
  },
  {
   "cell_type": "markdown",
   "metadata": {},
   "source": [
    "# 生成代理ip池 <a id='generateProxyIp'></a> [返回](#menu)"
   ]
  },
  {
   "cell_type": "code",
   "execution_count": 4,
   "metadata": {
    "collapsed": true
   },
   "outputs": [],
   "source": [
    "def GenerateProxyList(oldProxyList):\n",
    "    print('正在更新代理ip集。。')\n",
    "    proxyList = []\n",
    "    ipUrl = 'http://www.xicidaili.com/'\n",
    "    session = requests.session()\n",
    "    try:\n",
    "        response = session.get(ipUrl,headers=GetHeaders())\n",
    "        #print(response.content.decode('utf-8'))\n",
    "        soup = BeautifulSoup(response.content.decode('utf-8'),'html.parser')\n",
    "        trs = soup.find_all('tr',attrs={'class':re.compile(r'(odd)|()')})\n",
    "        for tr in trs:\n",
    "            #print(tr)\n",
    "            tds = tr.find_all('td')\n",
    "            if len(tds)>6 and tds[6].text!='1分钟':\n",
    "                #print(tds[6])\n",
    "                proxy = {'http':tds[1].string+':'+tds[2].string,\n",
    "                         'https':tds[1].string+':'+tds[2].string}\n",
    "                if proxy in oldProxyList:\n",
    "                    continue\n",
    "                ipTestUrl = 'http://ip.chinaz.com/getip.aspx'\n",
    "                try:\n",
    "                    response = session.get(ipTestUrl,proxies=proxy,timeout=5)\n",
    "                    proxyList.append(proxy)\n",
    "                    print('获取代理ip%s成功！'%proxy)\n",
    "                except:\n",
    "                    #print('代理ip%s失效。。'%proxy)\n",
    "                    continue\n",
    "            if(len(proxyList)==10):\n",
    "                print('代理ip生成完成！')\n",
    "                break\n",
    "    except:\n",
    "        print('获取代理ip失败。。')\n",
    "    session.close\n",
    "    return proxyList\n",
    "\n",
    "def GetProxy(proxyList):\n",
    "    return random.choice(proxyList)"
   ]
  },
  {
   "cell_type": "markdown",
   "metadata": {},
   "source": [
    "# 获取题库页面 <a id='getPages'></a> [返回](#menu)"
   ]
  },
  {
   "cell_type": "code",
   "execution_count": 5,
   "metadata": {
    "collapsed": false
   },
   "outputs": [],
   "source": [
    "def GetPages(nPage):\n",
    "    beginPage = 'http://www.7wenta.com/tiku/g301.html'\n",
    "    oldPages = set()\n",
    "    newPages = set()\n",
    "    newPages.add(beginPage)\n",
    "    while (len(newPages)!=0) and (len(oldPages) < nPage):\n",
    "        new_url = newPages.pop()\n",
    "        oldPages.add(new_url)\n",
    "        try:\n",
    "            response = requests.get(new_url)\n",
    "            soup = BeautifulSoup(response.content.decode('utf-8'), 'html.parser')\n",
    "            urls = soup.find_all('a',href=re.compile(r'http://www.7wenta.com/tiku/'))\n",
    "            for url in urls:\n",
    "                if url is None:\n",
    "                    continue\n",
    "                if url not in newPages and url not in oldPages:\n",
    "                    newPages.add(url['href'])\n",
    "        except:\n",
    "            print('获取页面%s失败。。'%new_url)\n",
    "    print('共找到%d个页面！'%len(oldPages))\n",
    "    return oldPages"
   ]
  },
  {
   "cell_type": "markdown",
   "metadata": {},
   "source": [
    "# 获取题目网址 <a id='getQuestionUrls'></a> [返回](#menu)"
   ]
  },
  {
   "cell_type": "code",
   "execution_count": 6,
   "metadata": {
    "collapsed": true
   },
   "outputs": [],
   "source": [
    "def GetQuestionUrls(pages):\n",
    "    questionUrls = set()\n",
    "    for page in pages:\n",
    "        try:\n",
    "            response = requests.get(page)\n",
    "            soup = BeautifulSoup(response.content.decode(),'html.parser')\n",
    "            urls = soup.find_all('a',class_='ansBtn r')\n",
    "            for url in urls:\n",
    "                #print(url)\n",
    "                questionUrl = url['href'].replace('html','json?%s&fromSearch=false'%GetTimeString()).replace('topic/','topic/answer/')\n",
    "                questionUrls.add(questionUrl)\n",
    "        except:\n",
    "            print('打开页面%s失败。。'%page)\n",
    "    print('共找到%d条题目！'%len(questionUrls))\n",
    "    return questionUrls\n",
    "\n",
    "def SaveQuestionUrls(questionUrls):\n",
    "    with codecs.open('questionUrls.txt','a','utf-8') as wf:\n",
    "        for item in questionUrls:\n",
    "            wf.write(item + '\\n')"
   ]
  },
  {
   "cell_type": "markdown",
   "metadata": {},
   "source": [
    "# 下载保存题目 <a id='loadQuestions'></a> [返回](#menu)"
   ]
  },
  {
   "cell_type": "code",
   "execution_count": 10,
   "metadata": {
    "collapsed": false
   },
   "outputs": [],
   "source": [
    "def LoadQuestions(questionUrls, saveFile, oldProxyList, savedUrls):\n",
    "    postHeaders = {\n",
    "        'Accept':'*/*',\n",
    "        'Accept-Encoding':'gzip, deflate',\n",
    "        'Accept-Language':'zh-CN,zh;q=0.8',\n",
    "        'Connection':'keep-alive',\n",
    "        #'Content-Length':64,\n",
    "        'Content-Type':'application/x-www-form-urlencoded; charset=UTF-8',\n",
    "        'Host':'www.7wenta.com',\n",
    "        'Origin':'http://www.7wenta.com',\n",
    "        'Referer':'http://www.7wenta.com/',\n",
    "        'User-Agent':'Mozilla/5.0 (Windows NT 6.1; WOW64) AppleWebKit/537.36 (KHTML, like Gecko) Chrome/58.0.3029.96 Safari/537.36',\n",
    "        'X-Requested-With':'XMLHttpRequest'\n",
    "    }\n",
    "    postData = {\n",
    "        'account':'13651544',\n",
    "        'pwd':'678127483bdd304fada4018689663cbe',\n",
    "        'auto':'false'\n",
    "    }\n",
    "    \n",
    "    getHeaders = {\n",
    "        'Accept':'text/html,application/xhtml+xml,application/xml;q=0.9,image/webp,*/*;q=0.8',\n",
    "        'Accept-Encoding':'gzip, deflate, sdch',\n",
    "        'Accept-Language':'zh-CN,zh;q=0.8',\n",
    "        'Cache-Control':'max-age=0',\n",
    "        'Connection':'keep-alive',\n",
    "        'Host':'www.7wenta.com',\n",
    "        'Referer':'http://www.7wenta.com/',\n",
    "        #'Upgrade-Insecure-Requests':1,\n",
    "        'User-Agent':'Mozilla/5.0 (Windows NT 6.1; WOW64) AppleWebKit/537.36 (KHTML, like Gecko) Chrome/45.0.2454.101 Safari/537.36'\n",
    "    }\n",
    "    \n",
    "    with codecs.open(saveFile,'a','utf-8') as wf:\n",
    "        number = 1\n",
    "        index = 0\n",
    "        sess = requests.Session()\n",
    "        proxyList = GenerateProxyList(oldProxyList)\n",
    "        if len(proxyList) == 0:\n",
    "            print('代理ip列表为空。。结束爬虫。。')\n",
    "            return\n",
    "        \n",
    "        \n",
    "        while(True):\n",
    "            sess.headers = postHeaders\n",
    "            sess.proxies = proxyList[index]\n",
    "            index += 1\n",
    "            if index >= len(proxyList):\n",
    "                proxyList = GenerateProxyList(oldProxyList)\n",
    "                if len(proxyList) == 0:\n",
    "                    print('代理ip列表为空。。结束爬虫。。')\n",
    "                    return\n",
    "                index = 0\n",
    "            time.sleep(random.uniform(3,8)) \n",
    "            try:\n",
    "                sess.post('http://www.7wenta.com/login2.json?%s' % GetTimeString(), data=postData)\n",
    "                print('登陆成功！')\n",
    "                break\n",
    "            except:\n",
    "                print('登录失败。。')\n",
    "        for url in questionUrls:\n",
    "            if url.split('.')[2].split('/')[-1] in savedUrls:\n",
    "                print('该题目已下载！')\n",
    "                continue\n",
    "            while(True):\n",
    "                try:\n",
    "                    sess.headers = getHeaders\n",
    "                    response = sess.get(url)\n",
    "                    js = json.loads(response.content.decode('utf-8'))\n",
    "                    if 'value' in js and js['value'] != None:\n",
    "                        wf.write(response.content.decode('utf-8'))\n",
    "                        wf.write('\\n')\n",
    "                        print('%d、下载题目%s成功！'%(number,url))\n",
    "                        with codecs.open('savedUrls.txt','a','utf-8') as su:\n",
    "                            su.write(url.split('.')[2].split('/')[-1])\n",
    "                            su.write('\\n')\n",
    "                        time.sleep(random.uniform(3,8))\n",
    "                        break\n",
    "                    else:\n",
    "                        if 'resultCode' in js and js['resultCode']['code'] == -11:\n",
    "                            print('需要填验证码。。')\n",
    "                        elif 'resultCode' in js:\n",
    "                            print('ip已失效，正在换新ip。。 %d, %s'%(js['resutlCode']['code'], js['resultCode']['detail']))\n",
    "                        else:\n",
    "                            print('ip已失效，正在换新ip。。')\n",
    "                        while(True):\n",
    "                            sess.headers = postHeaders\n",
    "                            sess.proxies = proxyList[index]\n",
    "                            index += 1\n",
    "                            if index >= len(proxyList):\n",
    "                                proxyList = GenerateProxyList(oldProxyList)\n",
    "                                if len(proxyList) == 0:\n",
    "                                    print('代理ip列表为空。。结束爬虫。。')\n",
    "                                    return\n",
    "                                index = 0\n",
    "                            time.sleep(random.uniform(3,8)) \n",
    "                            try:\n",
    "                                sess.post('http://www.7wenta.com/login2.json?%s' % GetTimeString(), data=postData)\n",
    "                                print('登陆成功！')\n",
    "                                break\n",
    "                            except:\n",
    "                                print('登录失败。。')\n",
    "                except:\n",
    "                    print('下载题目失败。。')\n",
    "                    while(True):\n",
    "                        sess.headers = postHeaders\n",
    "                        sess.proxies = proxyList[index]\n",
    "                        index += 1\n",
    "                        if index >= len(proxyList):\n",
    "                            proxyList = GenerateProxyList(oldProxyList)\n",
    "                            if len(proxyList) == 0:\n",
    "                                print('代理ip列表为空。。结束爬虫。。')\n",
    "                                return\n",
    "                            index = 0\n",
    "                        time.sleep(random.uniform(3,8)) \n",
    "                        try:\n",
    "                            sess.post('http://www.7wenta.com/login2.json?%s' % GetTimeString(), data=postData)\n",
    "                            print('登陆成功！')\n",
    "                            break\n",
    "                        except:\n",
    "                            print('登录失败。。')\n",
    "            if number % 100 == 0:\n",
    "                print('休息1分钟。')\n",
    "                time.sleep(60)\n",
    "            number += 1\n",
    "    print('下载保存完成！')"
   ]
  },
  {
   "cell_type": "markdown",
   "metadata": {},
   "source": [
    "# 主函数 <a id='main'></a> [返回](#menu)"
   ]
  },
  {
   "cell_type": "code",
   "execution_count": 8,
   "metadata": {
    "collapsed": false,
    "scrolled": true
   },
   "outputs": [
    {
     "name": "stdout",
     "output_type": "stream",
     "text": [
      "共找到100个页面！\n",
      "共找到965条题目！\n"
     ]
    }
   ],
   "source": [
    "pages = GetPages(100)\n",
    "#pages = ['http://www.7wenta.com/tiku/g111.html']\n",
    "questionUrls = GetQuestionUrls(pages)\n",
    "#questionUrls = ['http://www.7wenta.com/topic/answer/9814DAEB6422AC27EE5E1B85950694C7.json?1497441966718&fromSearch=false']"
   ]
  },
  {
   "cell_type": "code",
   "execution_count": 9,
   "metadata": {
    "collapsed": true
   },
   "outputs": [],
   "source": [
    "SaveQuestionUrls(questionUrls)"
   ]
  },
  {
   "cell_type": "code",
   "execution_count": 8,
   "metadata": {
    "collapsed": false
   },
   "outputs": [
    {
     "name": "stdout",
     "output_type": "stream",
     "text": [
      "880\n"
     ]
    }
   ],
   "source": [
    "questionUrls = set()\n",
    "with codecs.open('questionUrls.txt','r','utf-8') as lf:\n",
    "    for line in lf:\n",
    "        #print(line.strip())\n",
    "        questionUrls.add(line.strip())\n",
    "print(len(questionUrls))"
   ]
  },
  {
   "cell_type": "code",
   "execution_count": null,
   "metadata": {
    "collapsed": false,
    "scrolled": false
   },
   "outputs": [
    {
     "name": "stdout",
     "output_type": "stream",
     "text": [
      "5034\n",
      "正在更新代理ip集。。\n",
      "获取代理ip{'http': '27.184.50.115:8118', 'https': '27.184.50.115:8118'}成功！\n",
      "获取代理ip{'http': '58.245.100.110:8118', 'https': '58.245.100.110:8118'}成功！\n",
      "获取代理ip{'http': '144.255.230.186:8118', 'https': '144.255.230.186:8118'}成功！\n",
      "获取代理ip{'http': '122.72.32.88:80', 'https': '122.72.32.88:80'}成功！\n",
      "获取代理ip{'http': '180.105.170.222:808', 'https': '180.105.170.222:808'}成功！\n",
      "获取代理ip{'http': '182.242.179.85:8118', 'https': '182.242.179.85:8118'}成功！\n",
      "获取代理ip{'http': '218.11.84.198:8118', 'https': '218.11.84.198:8118'}成功！\n",
      "获取代理ip{'http': '113.200.214.164:9999', 'https': '113.200.214.164:9999'}成功！\n",
      "获取代理ip{'http': '124.239.177.85:8080', 'https': '124.239.177.85:8080'}成功！\n",
      "获取代理ip{'http': '112.115.43.80:9999', 'https': '112.115.43.80:9999'}成功！\n",
      "代理ip生成完成！\n",
      "登陆成功！\n",
      "该题目已下载！\n",
      "1、下载题目http://www.7wenta.com/topic/answer/3968AD9406FE5A629A35C7438D334A31.json?1502429139740&fromSearch=false成功！\n",
      "该题目已下载！\n",
      "需要填验证码。。\n",
      "登陆成功！\n",
      "2、下载题目http://www.7wenta.com/topic/answer/1A537BC424BF667EF690C815D5AEB08B.json?1502429129769&fromSearch=false成功！\n",
      "该题目已下载！\n",
      "3、下载题目http://www.7wenta.com/topic/answer/887BFD01D212E6B81602B68F6F3E5C1F.json?1502429127321&fromSearch=false成功！\n",
      "4、下载题目http://www.7wenta.com/topic/answer/3CBE8654DF81DD8789332794BF604645.json?1502429137853&fromSearch=false成功！\n",
      "5、下载题目http://www.7wenta.com/topic/answer/20CB625511366A5828157E3DE47A930D.json?1502429135756&fromSearch=false成功！\n",
      "6、下载题目http://www.7wenta.com/topic/answer/CA594C755FACD87970B7C2F2C803F73F.json?1502429135900&fromSearch=false成功！\n",
      "7、下载题目http://www.7wenta.com/topic/answer/B0AFC935021BCB63EED7CB951AE73D74.json?1502429123217&fromSearch=false成功！\n",
      "8、下载题目http://www.7wenta.com/topic/answer/3C6619ED303B509D7D94D4C425EDB772.json?1502429125141&fromSearch=false成功！\n",
      "9、下载题目http://www.7wenta.com/topic/answer/957DC3B59F8A700CD7C3546DD9BDD314.json?1502429128056&fromSearch=false成功！\n",
      "10、下载题目http://www.7wenta.com/topic/answer/C865E3ABE54B05CF3A0A392C79F92E82.json?1502429123022&fromSearch=false成功！\n",
      "11、下载题目http://www.7wenta.com/topic/answer/AEDF824B9C08F0AD3B8B9458B67B9AD3.json?1502429134054&fromSearch=false成功！\n",
      "需要填验证码。。\n",
      "登录失败。。\n",
      "登陆成功！\n",
      "下载题目失败。。\n",
      "登录失败。。\n",
      "登录失败。。\n",
      "登录失败。。\n",
      "登陆成功！\n",
      "需要填验证码。。\n",
      "登陆成功！\n",
      "需要填验证码。。\n",
      "正在更新代理ip集。。\n",
      "获取代理ip{'http': '222.223.254.216:8118', 'https': '222.223.254.216:8118'}成功！\n",
      "获取代理ip{'http': '175.2.218.164:8080', 'https': '175.2.218.164:8080'}成功！\n",
      "获取代理ip{'http': '60.212.78.175:8118', 'https': '60.212.78.175:8118'}成功！\n",
      "获取代理ip{'http': '36.41.138.117:8118', 'https': '36.41.138.117:8118'}成功！\n",
      "获取代理ip{'http': '116.196.5.150:808', 'https': '116.196.5.150:808'}成功！\n",
      "获取代理ip{'http': '112.81.95.241:8118', 'https': '112.81.95.241:8118'}成功！\n",
      "获取代理ip{'http': '219.141.189.236:3128', 'https': '219.141.189.236:3128'}成功！\n",
      "获取代理ip{'http': '180.168.179.193:8080', 'https': '180.168.179.193:8080'}成功！\n",
      "获取代理ip{'http': '139.196.176.18:9797', 'https': '139.196.176.18:9797'}成功！\n",
      "获取代理ip{'http': '101.37.79.125:3128', 'https': '101.37.79.125:3128'}成功！\n",
      "代理ip生成完成！\n",
      "登陆成功！\n",
      "需要填验证码。。\n",
      "登陆成功！\n",
      "12、下载题目http://www.7wenta.com/topic/answer/1432ED9C50425919AD958E4E4C2A2EDB.json?1502429136487&fromSearch=false成功！\n",
      "13、下载题目http://www.7wenta.com/topic/answer/6E631AB69C0499BE78566C0A3744F12A.json?1502429134954&fromSearch=false成功！\n",
      "下载题目失败。。\n"
     ]
    }
   ],
   "source": [
    "oldProxyList = []\n",
    "savedUrls = set()\n",
    "with codecs.open('savedUrls.txt','r','utf-8') as lf:\n",
    "    for line in lf:\n",
    "        savedUrls.add(line.strip())\n",
    "print(len(savedUrls))\n",
    "LoadQuestions(questionUrls,'answer.txt',oldProxyList,savedUrls)"
   ]
  },
  {
   "cell_type": "code",
   "execution_count": 3,
   "metadata": {
    "collapsed": false
   },
   "outputs": [
    {
     "name": "stdout",
     "output_type": "stream",
     "text": [
      "题目数： 3734\n",
      "行数： 3743\n"
     ]
    }
   ],
   "source": [
    "answer = set()\n",
    "i = 0\n",
    "with codecs.open('answer.txt','r','utf-8') as lf:\n",
    "    for line in lf:\n",
    "        answer.add(line.strip())\n",
    "        i += 1\n",
    "print('题目数：',len(answer))\n",
    "print('行数：',i)"
   ]
  },
  {
   "cell_type": "markdown",
   "metadata": {},
   "source": [
    "# 数据去重"
   ]
  },
  {
   "cell_type": "code",
   "execution_count": 15,
   "metadata": {
    "collapsed": false
   },
   "outputs": [],
   "source": [
    "import json\n",
    "import codecs\n",
    "answerId = set()\n",
    "with codecs.open('answer.txt','r','utf-8') as lf:\n",
    "    for line in lf:\n",
    "        js = json.loads(line)\n",
    "        value = js['value']\n",
    "        if value['id'] in answerId:\n",
    "            print(value['id'])\n",
    "        else:\n",
    "            answerId.add(value['id'])"
   ]
  },
  {
   "cell_type": "markdown",
   "metadata": {},
   "source": [
    "# 保存地址去重"
   ]
  },
  {
   "cell_type": "code",
   "execution_count": 20,
   "metadata": {
    "collapsed": false
   },
   "outputs": [],
   "source": [
    "import codecs\n",
    "answerId = set()\n",
    "with codecs.open('savedUrls.txt','r','utf-8') as lf:\n",
    "    for line in lf:\n",
    "        if line.strip() not in answerId:\n",
    "            answerId.add(line.strip())\n",
    "        else:\n",
    "             print(line.strip())"
   ]
  },
  {
   "cell_type": "code",
   "execution_count": 19,
   "metadata": {
    "collapsed": false
   },
   "outputs": [],
   "source": [
    "import codecs\n",
    "answerId = set()\n",
    "with codecs.open('savedUrls.txt','r','utf-8') as lf:\n",
    "    for line in lf:\n",
    "        answerId.add(line.strip())\n",
    "with codecs.open('savedUrls.txt','w','utf-8') as wf:\n",
    "    for line in answerId:\n",
    "        wf.write(line + '\\n')"
   ]
  },
  {
   "cell_type": "code",
   "execution_count": null,
   "metadata": {
    "collapsed": true
   },
   "outputs": [],
   "source": []
  }
 ],
 "metadata": {
  "kernelspec": {
   "display_name": "Python 3",
   "language": "python",
   "name": "python3"
  },
  "language_info": {
   "codemirror_mode": {
    "name": "ipython",
    "version": 3
   },
   "file_extension": ".py",
   "mimetype": "text/x-python",
   "name": "python",
   "nbconvert_exporter": "python",
   "pygments_lexer": "ipython3",
   "version": "3.6.1"
  }
 },
 "nbformat": 4,
 "nbformat_minor": 2
}
