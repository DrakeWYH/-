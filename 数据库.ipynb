{
 "cells": [
  {
   "cell_type": "markdown",
   "metadata": {},
   "source": [
    "# 打印html"
   ]
  },
  {
   "cell_type": "code",
   "execution_count": 1,
   "metadata": {
    "collapsed": false
   },
   "outputs": [
    {
     "data": {
      "text/plain": [
       "<function close>"
      ]
     },
     "execution_count": 1,
     "metadata": {},
     "output_type": "execute_result"
    }
   ],
   "source": [
    "import json\n",
    "lf = open('answer.txt','r')\n",
    "wf = open('answer.html','w')\n",
    "wf.write(\"<html><head><meta http-equiv=\\\"Content-Type\\\" content=\\\"text/html;charset=utf-8\\\"></head><body>\")\n",
    "for line in lf:\n",
    "    js = json.loads(line)\n",
    "    wf.write(\"<div style='border:1px solid black;'>\")\n",
    "    wf.write('id=%s<br />'%js['value']['id'])\n",
    "    wf.write('grade=%d<br />'%js['value']['grade'])\n",
    "    wf.write('subject=%d<br />'%js['value']['subject'])\n",
    "    wf.write('question=%s<br />'%js['value']['question'].encode('utf-8'))\n",
    "    wf.write('knowledge=')\n",
    "    for i in range(len(js['value']['knowledge'])):\n",
    "        wf.write('%d '%js['value']['knowledge'][i])\n",
    "    wf.write('<br />')\n",
    "    if js['value']['type'] == 0:\n",
    "        wf.write('options=')\n",
    "        for option in js['value']['options']:\n",
    "            wf.write(option.encode('utf-8')+' ')\n",
    "        wf.write('<br />')\n",
    "    wf.write('analysis=%s<br />'%js['value']['analysis'].encode('utf-8'))\n",
    "    wf.write('answers=')\n",
    "    for item in js['value']['answers']:\n",
    "        wf.write(item.encode('utf-8'))\n",
    "    wf.write('<br />type=%d<br />'%js['value']['type'])\n",
    "    wf.write('</div><br />')\n",
    "wf.write('</body></html>')\n",
    "lf.close\n",
    "wf.close"
   ]
  },
  {
   "cell_type": "markdown",
   "metadata": {},
   "source": [
    "# 创建数据库类"
   ]
  },
  {
   "cell_type": "code",
   "execution_count": 1,
   "metadata": {
    "collapsed": false
   },
   "outputs": [],
   "source": [
    "#encoding=utf-8\n",
    "import pymssql\n",
    "class MSSQL:\n",
    "    def __init__(self, host, user, pwd, db):\n",
    "        self.host = host\n",
    "        self.user = user\n",
    "        self.pwd = pwd\n",
    "        self.db = db\n",
    "        \n",
    "    def __GetConnect(self):\n",
    "        if not self.db:\n",
    "            raise(NameError, '没有设置数据库信息')\n",
    "        self.conn = pymssql.connect(host=self.host,user=self.user,password=self.pwd,database=self.db,charset='utf8')\n",
    "        cur=self.conn.cursor()\n",
    "        if not cur:\n",
    "            raise(NameError,'连接数据库失败')\n",
    "        else:\n",
    "            return cur\n",
    "        \n",
    "    def ExecQuery(self, sql):\n",
    "        cur = self.__GetConnect()\n",
    "        cur.execute(sql)\n",
    "        resList = cur.fetchall()\n",
    "        self.conn.close()\n",
    "        return resList\n",
    "    \n",
    "    def ExecNonQuery(self, sql):\n",
    "        cur = self.__GetConnect()\n",
    "        cur.execute(sql)\n",
    "        self.conn.commit()\n",
    "        self.conn.close()\n"
   ]
  },
  {
   "cell_type": "markdown",
   "metadata": {},
   "source": [
    "# 导入数据库"
   ]
  },
  {
   "cell_type": "code",
   "execution_count": 2,
   "metadata": {
    "collapsed": false,
    "scrolled": false,
    "slideshow": {
     "slide_type": "-"
    }
   },
   "outputs": [
    {
     "name": "stdout",
     "output_type": "stream",
     "text": [
      "已保存1000条数据！\n",
      "已保存2000条数据！\n",
      "已保存3000条数据！\n",
      "已保存4000条数据！\n",
      "保存完成！一共保存了4976条数据！\n"
     ]
    },
    {
     "data": {
      "text/plain": [
       "<function close>"
      ]
     },
     "execution_count": 2,
     "metadata": {},
     "output_type": "execute_result"
    }
   ],
   "source": [
    "#encoding=utf-8\n",
    "import json\n",
    "import re\n",
    "count = 0\n",
    "ms = MSSQL(host=r'(local)',user=r'DRAKE',pwd=r'123456',db=r'question')\n",
    "lf = open('answer.txt','r')\n",
    "for line in lf:\n",
    "    js = json.loads(line)\n",
    "    value = js['value']\n",
    "    \n",
    "    # id ntext\n",
    "    ID = value['id'].encode('utf-8')\n",
    "    \n",
    "    # grade int\n",
    "    if value.has_key('grade'):\n",
    "        grade = value['grade']\n",
    "    else:\n",
    "        grade = None\n",
    "    \n",
    "    # subject int\n",
    "    if value.has_key('subject'):\n",
    "        subject = value['subject']\n",
    "    else:\n",
    "        subject = None\n",
    "        \n",
    "    # question ntext\n",
    "    question = value['question'].encode('utf-8').replace('\\'','\\'\\'')\n",
    "    #pattern = re.compile(r'<frm>.+</frm>')\n",
    "    #if pattern.match(question):\n",
    "    #    print(ID)\n",
    "    #    strList = re.findall(pattern, question)\n",
    "    #    for item in strList:\n",
    "    #        print(item)\n",
    "    question = question.replace(r'<frm>', r'\\(').replace(r'</frm>', r'\\)')\n",
    "    \n",
    "    # knowledge ntext\n",
    "    if value.has_key('knowledge'):\n",
    "        knowledge = json.dumps(value['knowledge']).replace('\\'','\\'\\'')\n",
    "    else:\n",
    "        knowledge = ''\n",
    "        \n",
    "    # options ntext\n",
    "    optionA = ''\n",
    "    optionB = ''\n",
    "    optionC = ''\n",
    "    optionD = ''\n",
    "    optionE = ''\n",
    "    if value.has_key('options'):\n",
    "        length = len(value['options'])\n",
    "        optionA = value['options'][0].encode('utf-8').replace('\\'','\\'\\'').replace(r'<frm>', r'\\(').replace(r'</frm>', r'\\)')\n",
    "        if length >= 2:\n",
    "            optionB = value['options'][1].encode('utf-8').replace('\\'','\\'\\'').replace(r'<frm>', r'\\(').replace(r'</frm>', r'\\)')\n",
    "        if length >= 3:\n",
    "            optionC = value['options'][2].encode('utf-8').replace('\\'','\\'\\'').replace(r'<frm>', r'\\(').replace(r'</frm>', r'\\)')\n",
    "        if length >= 4:\n",
    "            optionD = value['options'][3].encode('utf-8').replace('\\'','\\'\\'').replace(r'<frm>', r'\\(').replace(r'</frm>', r'\\)')\n",
    "        if length >= 5:\n",
    "            optionE = value['options'][4].encode('utf-8').replace('\\'','\\'\\'').replace(r'<frm>', r'\\(').replace(r'</frm>', r'\\)')\n",
    "    \n",
    "        \n",
    "    # analysis ntext\n",
    "    if value.has_key('analysis'):\n",
    "        analysis = value['analysis'].encode('utf-8').replace('\\'','\\'\\'').replace(r'<frm>', r'\\(').replace(r'</frm>', r'\\)')\n",
    "    else:\n",
    "        analysis = ''\n",
    "        \n",
    "    # answers ntext\n",
    "    answers = ''\n",
    "    for answer in value['answers']:\n",
    "        answers = answers + answer.encode('utf-8').replace('\\'','\\'\\'').replace(r'<frm>', r'\\(').replace(r'</frm>', r'\\)')\n",
    "        \n",
    "    # type int\n",
    "    Type = value['type']\n",
    "    \n",
    "    #print 'id=',ID,type(ID)\n",
    "    #print 'grade=',grade,type(grade)\n",
    "    #print 'subject=',subject,type(subject)\n",
    "    #print 'question=',question,type(question)\n",
    "    #print 'knowledge=',knowledge,type(knowledge)\n",
    "    #print 'optionA=',optionA,type(optionA)\n",
    "    #print 'analysis=',analysis,type(analysis)\n",
    "    #print 'answers=',answers,type(answers)\n",
    "    #print 'type=',Type,type(Type)\n",
    "    #print ''\n",
    "    \n",
    "    resList = ms.ExecQuery(\"select * from dbo.OnlineEducationSite_question where id='%s'\" % ID)\n",
    "    if len(resList) == 0:\n",
    "        ms.ExecNonQuery(\"insert into dbo.OnlineEducationSite_question values('%s',%d,  %d,'%s','%s','%s','%s','%s','%s','%s','%s','%s',%d)\"%(ID,grade,subject,question,knowledge,optionA,optionB,optionC,optionD,optionE,analysis,answers,Type))\n",
    "    \n",
    "    count += 1\n",
    "    if count % 1000 == 0:\n",
    "        print '已保存%d条数据！'% count\n",
    "print '保存完成！一共保存了%d条数据！'% count\n",
    "lf.close\n",
    "\n",
    "\n"
   ]
  },
  {
   "cell_type": "markdown",
   "metadata": {},
   "source": [
    "# 清空数据库"
   ]
  },
  {
   "cell_type": "code",
   "execution_count": 24,
   "metadata": {
    "collapsed": false
   },
   "outputs": [],
   "source": [
    "ms = MSSQL(host=r'(local)',user=r'DRAKE',pwd=r'123456',db=r'question')\n",
    "ms.ExecNonQuery(\"delete from dbo.OnlineEducationSite_question\")"
   ]
  },
  {
   "cell_type": "markdown",
   "metadata": {},
   "source": [
    "# 添加其他数据"
   ]
  },
  {
   "cell_type": "code",
   "execution_count": 3,
   "metadata": {
    "collapsed": false
   },
   "outputs": [
    {
     "name": "stdout",
     "output_type": "stream",
     "text": [
      "已保存1000条数据！\n",
      "保存完成！一共保存了1185条数据！\n"
     ]
    }
   ],
   "source": [
    "# knowledge 知识点\n",
    "import json\n",
    "ms = MSSQL(host=r'(local)',user=r'DRAKE',pwd=r'123456',db=r'question')\n",
    "knowledgeSet = set()\n",
    "with open('answer.txt', 'r') as lf:\n",
    "    for line in lf:\n",
    "        js = json.loads(line)\n",
    "        value = js['value']\n",
    "        for kl in value['knowledge']:\n",
    "            knowledgeSet.add(kl)\n",
    "count = 0\n",
    "for knowledge in knowledgeSet:\n",
    "    resList = ms.ExecQuery(\"select * from dbo.OnlineEducationSite_knowledge where knowledge='%s'\" % knowledge)\n",
    "    if len(resList) == 0:\n",
    "        ms.ExecNonQuery(\"insert into dbo.OnlineEducationSite_knowledge values('%s','')\" % knowledge)\n",
    "    count += 1\n",
    "    if count % 1000 == 0:\n",
    "        print '已保存%d条数据！'% count\n",
    "print '保存完成！一共保存了%d条数据！'% count"
   ]
  },
  {
   "cell_type": "code",
   "execution_count": 5,
   "metadata": {
    "collapsed": false
   },
   "outputs": [
    {
     "name": "stdout",
     "output_type": "stream",
     "text": [
      "已保存1000条数据！\n",
      "已保存2000条数据！\n",
      "已保存3000条数据！\n",
      "已保存4000条数据！\n",
      "保存完成！一共保存了4969条数据！\n"
     ]
    }
   ],
   "source": [
    "# difficulty 难度\n",
    "import json\n",
    "ms = MSSQL(host=r'(local)',user=r'DRAKE',pwd=r'123456',db=r'question')\n",
    "IdSet = set()\n",
    "with open('answer.txt', 'r') as lf:\n",
    "    for line in lf:\n",
    "        js = json.loads(line)\n",
    "        Id = js['value']['id']\n",
    "        IdSet.add(Id)\n",
    "count = 0\n",
    "for Id in IdSet:\n",
    "    resList = ms.ExecQuery(\"select * from dbo.OnlineEducationSite_difficulty where question_id='%s'\" % Id)\n",
    "    if len(resList) == 0:\n",
    "        ms.ExecNonQuery(\"insert into dbo.OnlineEducationSite_difficulty values('%s',0,0)\" % Id)\n",
    "    count += 1\n",
    "    if count % 1000 == 0:\n",
    "        print '已保存%d条数据！'% count\n",
    "print '保存完成！一共保存了%d条数据！'% count"
   ]
  },
  {
   "cell_type": "code",
   "execution_count": 5,
   "metadata": {
    "collapsed": false
   },
   "outputs": [
    {
     "name": "stdout",
     "output_type": "stream",
     "text": [
      "已保存1000条数据！\n",
      "已保存2000条数据！\n",
      "已保存3000条数据！\n",
      "已保存4000条数据！\n",
      "保存完成！一共保存了4969条数据！\n"
     ]
    }
   ],
   "source": [
    "# description 描述\n",
    "import json\n",
    "ms = MSSQL(host=r'(local)',user=r'DRAKE',pwd=r'123456',db=r'question')\n",
    "IdSet = set()\n",
    "with open('answer.txt', 'r') as lf:\n",
    "    for line in lf:\n",
    "        js = json.loads(line)\n",
    "        Id = js['value']['id']\n",
    "        IdSet.add(Id)\n",
    "count = 0\n",
    "for Id in IdSet:\n",
    "    resList = ms.ExecQuery(\"select * from dbo.OnlineEducationSite_description where question_id='%s'\" % Id)\n",
    "    if len(resList) == 0:\n",
    "        ms.ExecNonQuery(\"insert into dbo.OnlineEducationSite_description values('','%s')\" % Id)\n",
    "    count += 1\n",
    "    if count % 1000 == 0:\n",
    "        print '已保存%d条数据！'% count\n",
    "print '保存完成！一共保存了%d条数据！'% count\n",
    "    "
   ]
  },
  {
   "cell_type": "code",
   "execution_count": null,
   "metadata": {
    "collapsed": true
   },
   "outputs": [],
   "source": []
  }
 ],
 "metadata": {
  "kernelspec": {
   "display_name": "Python 2",
   "language": "python",
   "name": "python2"
  }
 },
 "nbformat": 4,
 "nbformat_minor": 2
}
