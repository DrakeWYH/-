{
 "cells": [
  {
   "cell_type": "code",
   "execution_count": 11,
   "metadata": {
    "collapsed": false,
    "scrolled": false
   },
   "outputs": [
    {
     "name": "stdout",
     "output_type": "stream",
     "text": [
      "年级：\n",
      "7 839\n",
      "4 860\n",
      "6 416\n",
      "1 709\n",
      "2 461\n",
      "3 575\n",
      "5 273\n",
      "---------------------\n",
      "科目：\n",
      "2 3330\n",
      "4 185\n",
      "8 279\n",
      "6 61\n",
      "7 91\n",
      "9 131\n",
      "5 56\n",
      "---------------------\n",
      "题型：\n",
      "0 1550\n",
      "3 1304\n",
      "1 1248\n",
      "2 31\n",
      "---------------------\n",
      "知识点：\n",
      "55391 3\n",
      "55345 1\n",
      "55351 1\n",
      "55376 4\n",
      "55381 2\n",
      "55383 6\n",
      "55386 2\n",
      "55028 3\n",
      "55392 1\n",
      "55384 4\n",
      "55387 1\n",
      "55285 3\n",
      "55382 1\n",
      "50035 15\n",
      "55395 2\n",
      "55390 1\n",
      "55396 4\n",
      "55270 4\n",
      "55261 1\n",
      "55305 2\n",
      "55232 2\n",
      "55456 2\n",
      "55095 8\n",
      "55568 5\n",
      "50048 2\n",
      "50118 2\n",
      "50120 3\n",
      "50301 1\n",
      "55438 1\n",
      "55474 1\n",
      "55476 3\n",
      "55483 1\n",
      "55473 1\n",
      "50098 5\n",
      "55326 1\n",
      "55327 4\n",
      "55122 1\n",
      "50036 4\n",
      "55096 2\n",
      "55205 1\n",
      "55414 3\n",
      "55055 1\n",
      "50288 6\n",
      "55446 1\n",
      "50100 1\n",
      "50067 1\n",
      "50101 3\n",
      "50287 2\n",
      "55145 1\n",
      "50283 2\n",
      "55338 3\n",
      "55336 1\n",
      "55388 1\n",
      "50094 2\n",
      "55281 1\n",
      "55283 1\n",
      "50017 1\n",
      "50294 2\n",
      "50147 1\n",
      "50149 2\n",
      "50151 1\n",
      "55498 1\n",
      "50226 10\n",
      "50265 1\n",
      "50264 1\n",
      "50297 1\n",
      "55429 3\n",
      "55430 1\n",
      "55163 1\n",
      "55450 2\n",
      "55300 3\n",
      "55186 1\n",
      "50041 5\n",
      "50040 1\n",
      "50043 4\n",
      "50052 3\n",
      "50028 3\n",
      "50088 2\n",
      "55239 1\n",
      "50083 1\n",
      "50084 2\n",
      "50225 7\n",
      "50223 2\n",
      "50034 3\n",
      "50051 1\n",
      "50045 2\n",
      "50281 2\n",
      "50275 1\n",
      "50224 1\n",
      "50221 2\n",
      "50233 1\n",
      "50234 1\n",
      "50027 1\n",
      "50062 1\n",
      "50080 2\n",
      "50122 2\n",
      "55330 2\n",
      "55168 1\n",
      "55174 1\n",
      "50150 1\n",
      "50244 2\n",
      "55318 1\n",
      "55325 2\n",
      "50106 1\n",
      "50305 1\n",
      "55097 1\n",
      "55098 1\n",
      "50291 1\n",
      "50280 1\n",
      "50029 1\n",
      "50219 4\n",
      "50279 1\n",
      "55542 1\n",
      "55124 1\n",
      "55217 1\n",
      "55126 1\n",
      "50246 1\n",
      "50259 4\n",
      "55134 2\n",
      "50253 3\n",
      "50252 1\n",
      "55468 1\n",
      "50089 1\n"
     ]
    },
    {
     "data": {
      "text/plain": [
       "<function BufferedReader.close>"
      ]
     },
     "execution_count": 11,
     "metadata": {},
     "output_type": "execute_result"
    }
   ],
   "source": [
    "#-*-coding:utf-8-*-\n",
    "import jieba\n",
    "from jieba import analyse\n",
    "import json\n",
    "import chardet\n",
    "import codecs\n",
    "\n",
    "grade = {}\n",
    "subject = {}\n",
    "type_ = {}\n",
    "knowledge = {}\n",
    "with codecs.open('answer.txt','r','utf-8') as lf:\n",
    "    for line in lf:\n",
    "        js = json.loads(line)\n",
    "        value = js['value']\n",
    "        if value['grade'] in grade:\n",
    "            grade[value['grade']] += 1\n",
    "        else:\n",
    "            grade[value['grade']] = 1\n",
    "        if value['subject'] in subject:\n",
    "            subject[value['subject']] += 1\n",
    "        else:\n",
    "            subject[value['subject']] = 1\n",
    "        if value['type'] in type_:\n",
    "            type_[value['type']] += 1\n",
    "        else:\n",
    "            type_[value['type']] = 1\n",
    "        \n",
    "        if value['subject'] == 9:\n",
    "            for kl in value['knowledge']:\n",
    "                if kl in knowledge:\n",
    "                    knowledge[kl] += 1\n",
    "                else:\n",
    "                    knowledge[kl] = 1\n",
    "        \n",
    "print('年级：')\n",
    "for item in grade:\n",
    "    print(item, grade[item])\n",
    "print('---------------------')\n",
    "print('科目：')\n",
    "for item in subject:\n",
    "    print(item, subject[item])\n",
    "print('---------------------')\n",
    "print('题型：')\n",
    "for item in type_:\n",
    "    print(item, type_[item])\n",
    "print('---------------------')\n",
    "print('知识点：')\n",
    "for item in knowledge:\n",
    "    print(item, knowledge[item])\n",
    "\n",
    "lf.close"
   ]
  },
  {
   "cell_type": "code",
   "execution_count": 2,
   "metadata": {
    "collapsed": true
   },
   "outputs": [],
   "source": [
    "import codecs\n",
    "stoplist = []\n",
    "for line in codecs.open('stopword1.txt','r','utf-8'):\n",
    "    if b'\\xef\\xbb\\xbf' in line.encode('utf-8'):\n",
    "        stoplist.append(line.replace(b'\\xef\\xbb\\xbf'.decode(),'').strip())\n",
    "    else:\n",
    "        stoplist.append(line.strip())\n",
    "stop_list={}.fromkeys(stoplist)"
   ]
  },
  {
   "cell_type": "code",
   "execution_count": 18,
   "metadata": {
    "collapsed": false
   },
   "outputs": [
    {
     "data": {
      "image/png": "[encoded data removed]",
      "text/plain": [
       "<matplotlib.figure.Figure at 0x89289e8>"
      ]
     },
     "metadata": {},
     "output_type": "display_data"
    }
   ],
   "source": [
    "import matplotlib.pyplot as plt\n",
    "x=range(0,100)\n",
    "y=range(0,100)\n",
    "plt.figure()\n",
    "plt.bar(x,y)\n",
    "plt.show()"
   ]
  },
  {
   "cell_type": "code",
   "execution_count": 1,
   "metadata": {
    "collapsed": false
   },
   "outputs": [
    {
     "data": {
      "image/png": "[encoded data removed]",
      "text/plain": [
       "<matplotlib.figure.Figure at 0x4e89908>"
      ]
     },
     "metadata": {},
     "output_type": "display_data"
    }
   ],
   "source": [
    "x = range(10)\n",
    "y1 = x\n",
    "y2 = [5,3,6,8,3,2,1,5,6,3]\n",
    "import matplotlib.pyplot as plt\n",
    "figure = plt.figure()\n",
    "ax1 = figure.add_subplot(2,2,1)\n",
    "ax1.bar(x,y1)\n",
    "ax1.set_ylim(0,max(y1))\n",
    "\n",
    "ax2 = figure.add_subplot(2,2,2)\n",
    "ax2.bar(x,y2)\n",
    "ax2.set_ylim(0,max(y2))\n",
    "\n",
    "plt.show()"
   ]
  },
  {
   "cell_type": "code",
   "execution_count": null,
   "metadata": {
    "collapsed": true
   },
   "outputs": [],
   "source": []
  }
 ],
 "metadata": {
  "kernelspec": {
   "display_name": "Python 3",
   "language": "python",
   "name": "python3"
  },
  "language_info": {
   "codemirror_mode": {
    "name": "ipython",
    "version": 3
   },
   "file_extension": ".py",
   "mimetype": "text/x-python",
   "name": "python",
   "nbconvert_exporter": "python",
   "pygments_lexer": "ipython3",
   "version": "3.6.1"
  }
 },
 "nbformat": 4,
 "nbformat_minor": 2
}
